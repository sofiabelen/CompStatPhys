{
 "cells": [
  {
   "cell_type": "markdown",
   "id": "5a29dad9-d061-4712-8c93-3c9c7816aecc",
   "metadata": {
    "tags": []
   },
   "source": [
    "# Monte Carlo Metropolis Simulation of 2D Ising Model\n",
    "\n",
    "1. From the old configuration create a new one\n",
    "$$\n",
    "r^{N \\cdot N}_{old} \\rightarrow r^{N \\cdot N}_{new} \n",
    "$$\n",
    "\n",
    "2. The new configuration is accepted with probability\n",
    "$$\n",
    "P = \\min \\left\\{ 1, \\exp \\left( -\\frac{\\Delta E}{kT} \\right)\\right\\}\n",
    "$$\n",
    "\n",
    "3. If the new configuration is not accepted, we keep the old one.\n",
    "\n",
    "4. Repeat step 1 using the new configuration."
   ]
  },
  {
   "cell_type": "code",
   "execution_count": 1,
   "id": "c0274c7e-dc24-47d0-b04f-78a9437cbb7e",
   "metadata": {},
   "outputs": [],
   "source": [
    "import matplotlib.pyplot as plt\n",
    "import numpy as np\n",
    "from scipy.optimize import curve_fit\n",
    "import random"
   ]
  },
  {
   "cell_type": "markdown",
   "id": "b7988182-57b3-4b9e-830f-4c8b1d4a04c6",
   "metadata": {},
   "source": [
    "### Helper Array for Accesing Neighbours"
   ]
  },
  {
   "cell_type": "code",
   "execution_count": 2,
   "id": "5281676d-3f60-46d8-ad4e-e8b624a2b5ff",
   "metadata": {},
   "outputs": [],
   "source": [
    "neigh = [[-1, 0, 1, 0],\n",
    "         [0, -1, 0, 1]]"
   ]
  },
  {
   "cell_type": "markdown",
   "id": "9792e6aa-3242-4845-93c1-b0aa331b8d6f",
   "metadata": {},
   "source": [
    "### Plotting Functions"
   ]
  },
  {
   "cell_type": "code",
   "execution_count": 16,
   "id": "ad3bb3c3-3e78-44b6-8e74-52655265c670",
   "metadata": {},
   "outputs": [],
   "source": [
    "def plot(val_avg, val_avg2, T, label):\n",
    "    fig, ax = plt.subplots()\n",
    "    ax.scatter(T, val_avg)\n",
    "    val_err = np.sqrt(val_avg2 - val_avg**2)\n",
    "    # ax.errorbar(T, val_avg, yerr=val_err)\n",
    "    ax.set_ylabel(label)\n",
    "    ax.set_xlabel(\"Temperature\")"
   ]
  },
  {
   "cell_type": "code",
   "execution_count": 26,
   "id": "833279d7-7daa-4f1b-bf32-c95ea81d011b",
   "metadata": {},
   "outputs": [],
   "source": [
    "def plot_err(val_avg, val_avg2, T, label):\n",
    "    fig, ax = plt.subplots()\n",
    "    # ax.scatter(T, val_avg)\n",
    "    val_err = np.sqrt(val_avg2 - val_avg**2)\n",
    "    ax.errorbar(T, val_avg, yerr=val_err)\n",
    "    ax.set_ylabel(label)\n",
    "    ax.set_xlabel(\"Temperature\")"
   ]
  },
  {
   "cell_type": "code",
   "execution_count": 4,
   "id": "14789189-9d69-47af-9f44-59eb2a5eca7b",
   "metadata": {},
   "outputs": [],
   "source": [
    "def plot_grid(grid):    \n",
    "    fig, ax = plt.subplots()\n",
    "    \n",
    "    x = np.arange(len(grid))\n",
    "    y = np.arange(len(grid))\n",
    "\n",
    "    c = ax.pcolormesh(x, y, grid, cmap=\"magma\",\n",
    "                linewidth=0, rasterized=True)"
   ]
  },
  {
   "cell_type": "markdown",
   "id": "d2983f99-154b-48a1-98f2-fb9d0d209c16",
   "metadata": {},
   "source": [
    "### Total Energy\n",
    "$$\n",
    "E = \\sum_{i} E_i,\n",
    "$$\n",
    "$$\n",
    "E_i = -\\frac{J}{2} \\sum_{j \\in neigh(i)} S_i S_j - H S_i\n",
    "$$"
   ]
  },
  {
   "cell_type": "code",
   "execution_count": 5,
   "id": "980de904-3103-4964-a90a-6f701c0a3ba4",
   "metadata": {},
   "outputs": [],
   "source": [
    "def calc_energy(grid):\n",
    "    E = 0\n",
    "    # Traverse all grid\n",
    "    for i in range(len(grid)):\n",
    "        for j in range(len(grid)):\n",
    "            E -= H * grid[i][j]\n",
    "            \n",
    "            # Traverse all neighbors (periodic bc)\n",
    "            for k in range(4):\n",
    "                x = (neigh[0][k] + i) % n\n",
    "                y = (neigh[1][k] + j) % n\n",
    "                E -= J / 2 * grid[i][j] * grid[x][y]\n",
    "    return E"
   ]
  },
  {
   "cell_type": "markdown",
   "id": "609c9b24-5be6-4695-bf66-8952d73665a5",
   "metadata": {},
   "source": [
    "### Magnetization\n",
    "$$\n",
    "\\mu = \\frac{\\sum_i S_i}{N}\n",
    "$$\n",
    "Though here we just return $\\sum_i S_i$, we will divide by N later."
   ]
  },
  {
   "cell_type": "code",
   "execution_count": 6,
   "id": "de64ff8b-fcc4-4398-b5f2-6b2a79a54a93",
   "metadata": {},
   "outputs": [],
   "source": [
    "def calc_magnetization(grid):\n",
    "    return np.sum(grid)"
   ]
  },
  {
   "cell_type": "markdown",
   "id": "a7684474-96b1-446d-8d04-d3bbb8ac4eca",
   "metadata": {},
   "source": [
    "### Susceptibility\n",
    "$$\n",
    "\\chi = \\frac{\\mu}{H}\n",
    "$$"
   ]
  },
  {
   "cell_type": "code",
   "execution_count": 7,
   "id": "3f74caf1-8a07-4be2-aa84-42abda249002",
   "metadata": {},
   "outputs": [],
   "source": [
    "def calc_susceptibility(grid):\n",
    "    return calc_magnetization(grid) / H"
   ]
  },
  {
   "cell_type": "markdown",
   "id": "53e708ca-c2ca-425b-b638-36569c033fd4",
   "metadata": {},
   "source": [
    "### Monte Carlo Algorithm"
   ]
  },
  {
   "cell_type": "code",
   "execution_count": 8,
   "id": "15934a82-dd43-4afd-afaa-87a100762d8b",
   "metadata": {},
   "outputs": [],
   "source": [
    "def init(n):\n",
    "    grid = np.zeros((n, n))\n",
    "    \n",
    "    for i in range(n):\n",
    "        for j in range(n):\n",
    "            grid[i][j] = 1 if random.random() < 0.5 else -1\n",
    "            \n",
    "    return grid"
   ]
  },
  {
   "cell_type": "markdown",
   "id": "2224ea6d-af42-4225-bb9d-27be2ad104c3",
   "metadata": {},
   "source": [
    "#### Change in Energy\n",
    "$\n",
    "\\begin{align}\n",
    "\\Delta E &= \\Delta E_i + \\sum_{j \\in neigh(i)} \\Delta E_j \\\\\n",
    "         &= - \\frac{J}{2} \\left\\{ \\sum_{j \\in neigh(i)} \\left( \n",
    "                                   S_i^{new} - S_i^{old} \\right)S_j \\right\\}\n",
    "                                   - H \\left( S_i^{new} - S_i^{old} \\right)\n",
    "                                    -\\frac{J}{2} \\left\\{ \\sum_{j \\in neigh(i)} \\left( \n",
    "                                   S_i^{new} - S_i^{old} \\right)S_j \\right\\} \\\\\n",
    "          &= - J \\Delta S_i \\sum_{j \\in neigh(i)} S_j -\n",
    "                                              H \\Delta S_i\n",
    "\\end{align}\n",
    "$"
   ]
  },
  {
   "cell_type": "code",
   "execution_count": 9,
   "id": "3f2dc4aa-f644-4bdd-a962-aa0201205f62",
   "metadata": {},
   "outputs": [],
   "source": [
    "# Monte Carlo Step\n",
    "def mc_step(grid, mc_changes, inv_T):\n",
    "    n = len(grid)\n",
    "    for it in range(mc_changes):\n",
    "        cell = int(random.random() * n**2)\n",
    "        i = int(cell / n)\n",
    "        j = int(cell % n)\n",
    "\n",
    "        # deltaS_ij = S_ij^new - S_ji^old\n",
    "        deltaS_ij = - grid[i][j] * 2\n",
    "        # delta_E = 0\n",
    "        delta_E   = - H * deltaS_ij\n",
    "\n",
    "        # Traverse all neighbors\n",
    "        for k in range(4):\n",
    "            x = (neigh[0][k] + i) % n\n",
    "            y = (neigh[1][k] + j) % n\n",
    "            delta_E += - J * deltaS_ij * grid[x][y]\n",
    "\n",
    "        ## Accept the move\n",
    "        if delta_E < 0:\n",
    "            grid[i][j] *= -1\n",
    "        ## Accept the move with probability exp^{-dE/T}\n",
    "        elif random.random() < np.exp(-delta_E * inv_T):\n",
    "            grid[i][j] *= -1\n",
    "        # print(random.random(), np.exp(-delta_E * inv_T))"
   ]
  },
  {
   "cell_type": "code",
   "execution_count": 10,
   "id": "bb2f9de0-5a51-4b95-a49c-835741d266aa",
   "metadata": {},
   "outputs": [],
   "source": [
    "def mc_metropolis(n, mc_changes, n_steps_eq, nsteps_mc, T):\n",
    "    grid = init(n)\n",
    "    # plot_grid(grid)\n",
    "    \n",
    "    inv_T = 1 / T\n",
    "    \n",
    "    # Average energy E / n\n",
    "    E_avg   = 0\n",
    "    E_avg2  = 0\n",
    "    \n",
    "    # Average magnetization μ = ∑Si / N\n",
    "    mu_avg   = 0\n",
    "    mu_avg2  = 0\n",
    "    \n",
    "    # Average magnetic susceptibility χ = μ / H\n",
    "    chi_avg  = 0\n",
    "    chi_avg2 = 0\n",
    "        \n",
    "    # Reach our equilibrium state\n",
    "    for t in range(n_steps_eq + nsteps_mc):        \n",
    "        mc_step(grid, mc_changes, inv_T)\n",
    "        \n",
    "    # plot_grid(grid)\n",
    "\n",
    "    # Calculate averages\n",
    "    for t in range(nsteps_mc):\n",
    "        mc_step(grid, mc_changes, inv_T)\n",
    "        \n",
    "        E   = calc_energy(grid)\n",
    "        mu  = calc_magnetization(grid)\n",
    "        chi = calc_susceptibility(grid)\n",
    "        \n",
    "        E_avg    += E\n",
    "        E_avg2   += E**2\n",
    "        \n",
    "        mu_avg   += mu\n",
    "        mu_avg2  += mu**2\n",
    "        \n",
    "        chi_avg  += chi\n",
    "        chi_avg2 += chi**2\n",
    "    \n",
    "    E_avg    /= n * n * nsteps_mc\n",
    "    mu_avg   /= n * n * nsteps_mc\n",
    "    chi_avg  /= n * n * nsteps_mc\n",
    "        \n",
    "    E_avg2   /= n * n * nsteps_mc\n",
    "    mu_avg2  /= n * n * nsteps_mc\n",
    "    chi_avg2 /= n * n * nsteps_mc\n",
    "    \n",
    "    return E_avg, E_avg2, mu_avg, mu_avg2, chi_avg, chi_avg2"
   ]
  },
  {
   "cell_type": "markdown",
   "id": "c0b0a645-999d-46b7-a85d-7b5dd9409a49",
   "metadata": {
    "tags": []
   },
   "source": [
    "### Simulation Parameters"
   ]
  },
  {
   "cell_type": "code",
   "execution_count": 21,
   "id": "46469c86-80b8-4d7e-897c-1bd8abd48aa2",
   "metadata": {
    "tags": []
   },
   "outputs": [],
   "source": [
    "n_points = 30\n",
    "T_max = 4\n",
    "T_min = 1.5\n",
    "n = 10\n",
    "mc_changes = n * n\n",
    "nsteps_eq = 300\n",
    "nsteps_mc = 1000\n",
    "\n",
    "H = 0.0001\n",
    "J = 1"
   ]
  },
  {
   "cell_type": "markdown",
   "id": "45541226-8b4c-4d3f-a9f6-d7dadf9ef7c5",
   "metadata": {
    "tags": []
   },
   "source": [
    "### Main Part"
   ]
  },
  {
   "cell_type": "code",
   "execution_count": 24,
   "id": "1138883d-4f13-4f9f-ae0f-729ab41545eb",
   "metadata": {},
   "outputs": [],
   "source": [
    "dt = (T_max - T_min) / n_points\n",
    "T = np.arange(T_min, T_max, dt)\n",
    "\n",
    "E_avg    = np.zeros(len(T))\n",
    "mu_avg   = np.zeros(len(T))\n",
    "chi_avg  = np.zeros(len(T))\n",
    "\n",
    "E_avg2   = np.zeros(len(T))\n",
    "mu_avg2  = np.zeros(len(T))\n",
    "chi_avg2 = np.zeros(len(T))\n",
    "\n",
    "for i in range(len(T)):\n",
    "    # print(i)\n",
    "    E_avg[i], E_avg2[i], mu_avg[i], mu_avg2[i], chi_avg[i], chi_avg2[i] = mc_metropolis(n, mc_changes, nsteps_eq, nsteps_mc, T[i])"
   ]
  },
  {
   "cell_type": "markdown",
   "id": "e3d6d516-c435-44c8-be77-62bf80a36c31",
   "metadata": {},
   "source": [
    "### Plots Without Error Bars (why the splitting in magnetization and susceptibility?)"
   ]
  },
  {
   "cell_type": "code",
   "execution_count": 31,
   "id": "e42e6af2-7fc1-4b72-adc6-a4233155e660",
   "metadata": {},
   "outputs": [
    {
     "data": {
      "image/png": "[encoded data removed]",
      "text/plain": [
       "<Figure size 432x288 with 1 Axes>"
      ]
     },
     "metadata": {
      "needs_background": "light"
     },
     "output_type": "display_data"
    },
    {
     "data": {
      "image/png": "[encoded data removed]",
      "text/plain": [
       "<Figure size 432x288 with 1 Axes>"
      ]
     },
     "metadata": {
      "needs_background": "light"
     },
     "output_type": "display_data"
    },
    {
     "data": {
      "image/png": "[encoded data removed]",
      "text/plain": [
       "<Figure size 432x288 with 1 Axes>"
      ]
     },
     "metadata": {
      "needs_background": "light"
     },
     "output_type": "display_data"
    }
   ],
   "source": [
    "plot(E_avg,   E_avg2,   T, \"Energy\")\n",
    "plot(mu_avg,  mu_avg2,  T, \"Magnetization\")\n",
    "plot(chi_avg, chi_avg2, T, \"Susceptibility\")"
   ]
  },
  {
   "cell_type": "markdown",
   "id": "0e1c47a6-eb90-45ea-9a1c-1086a65f81c8",
   "metadata": {},
   "source": [
    "### Plots Error Bars (errors are too significant...)"
   ]
  },
  {
   "cell_type": "code",
   "execution_count": 32,
   "id": "e406658f-4c2b-4e0c-b31a-99e9267d3d9a",
   "metadata": {},
   "outputs": [
    {
     "data": {
      "image/png": "[encoded data removed]",
      "text/plain": [
       "<Figure size 432x288 with 1 Axes>"
      ]
     },
     "metadata": {
      "needs_background": "light"
     },
     "output_type": "display_data"
    },
    {
     "data": {
      "image/png": "[encoded data removed]",
      "text/plain": [
       "<Figure size 432x288 with 1 Axes>"
      ]
     },
     "metadata": {
      "needs_background": "light"
     },
     "output_type": "display_data"
    },
    {
     "data": {
      "image/png": "[encoded data removed]",
      "text/plain": [
       "<Figure size 432x288 with 1 Axes>"
      ]
     },
     "metadata": {
      "needs_background": "light"
     },
     "output_type": "display_data"
    }
   ],
   "source": [
    "plot_err(E_avg,   E_avg2,   T, \"Energy\")\n",
    "plot_err(mu_avg,  mu_avg2,  T, \"Magnetization\")\n",
    "plot_err(chi_avg, chi_avg2, T, \"Susceptibility\")"
   ]
  }
 ],
 "metadata": {
  "kernelspec": {
   "display_name": "Python 3 (ipykernel)",
   "language": "python",
   "name": "python3"
  },
  "language_info": {
   "codemirror_mode": {
    "name": "ipython",
    "version": 3
   },
   "file_extension": ".py",
   "mimetype": "text/x-python",
   "name": "python",
   "nbconvert_exporter": "python",
   "pygments_lexer": "ipython3",
   "version": "3.10.2"
  }
 },
 "nbformat": 4,
 "nbformat_minor": 5
}
